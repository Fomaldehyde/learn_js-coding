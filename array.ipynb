{
 "cells": [
  {
   "cell_type": "markdown",
   "metadata": {},
   "source": [
    "### 常用的数组方法\n",
    "\n",
    "\n",
    "flat() \n",
    "：⽤于将嵌套的数组“扁平化”，即将多层嵌套的数组转换为⼀层数组。例如，\n",
    "let arr = [1, [2, 3], [4, [5]]]; let flattenedArr = arr.flat();\n",
    "此时\n",
    "flattenedArr \n",
    "为\n",
    "[1, 2, 3, 4, [5]] \n",
    "，可以传⼊⼀个深度参数来指定扁平化\n",
    "的深度，如\n",
    "arr.flat(2) \n",
    "会将数组完全扁平化"
   ]
  },
  {
   "cell_type": "code",
   "execution_count": null,
   "metadata": {
    "vscode": {
     "languageId": "typescript"
    }
   },
   "outputs": [],
   "source": [
    "//数组扁平化的多种实现\n",
    "\n",
    "//1. 使用flat函数\n",
    "const arr1 = [1, 2, [3, 4, [5]]]\n",
    "const flat1 = arr1.flat(Infinity) // infinity表示无限制的深度\n",
    "console.log(flat1) // [1, 2, 3, 4, 5]\n",
    "\n",
    "//2. 正则表达式\n",
    "function flatten(arr) {\n",
    "    let str = JSON.stringify(arr);\n",
    "    str = str.replace(/\\[|\\]/g, '');\n",
    "    str = `[${str}]`;\n",
    "    return JSON.parse(str);\n",
    "}\n",
    "const arr2 = [1, [2, [3, 4, 5]]];\n",
    "console.log(flatten(arr2)); // [1, 2, 3, 4, 5]\n",
    "\n",
    "//3. reduce方法\n",
    "function flatten(arr: any[]): any[] {\n",
    "    return arr.reduce((pre, cur) => {\n",
    "        return pre.concat(Array.isArray(cur) ? flatten(cur) : cur);//递归调用\n",
    "    }, []);\n",
    "}\n",
    "const arr3 = [1, [2, [3, 4, 5]]];\n",
    "console.log(flatten(arr3)); // [1, 2, 3, 4, 5]\n",
    "\n",
    "\n",
    "//4. 递归函数\n",
    "function flatten(arr: any[]): any[] {\n",
    "    let result: any[] = [];\n",
    "    for (let i = 0; i < arr.length; i++) {\n",
    "        if (Array.isArray(arr[i])) {\n",
    "            result = result.concat(flatten(arr[i])); //递归调用\n",
    "        } else {\n",
    "            result.push(arr[i]);\n",
    "        }\n",
    "    }\n",
    "    return result;\n",
    "}\n",
    "const arr4 = [1, [2, [3, 4, 5]]];\n",
    "console.log(flatten(arr4)); // [1, 2, 3, 4, 5]"
   ]
  },
  {
   "cell_type": "code",
   "execution_count": null,
   "metadata": {
    "vscode": {
     "languageId": "typescript"
    }
   },
   "outputs": [],
   "source": [
    "//Array.isArray()\n",
    "\n",
    "function isArray(value: any): boolean {\n",
    "    return Object.prototype.toString.call(value) === '[object Array]';\n",
    "}\n",
    "\n",
    "\n",
    "//Array.of()\n",
    "function arrayOf(...args: any[]): any[] {\n",
    "    return Array.prototype.slice.call(args);\n",
    "}\n",
    "\n",
    "\n",
    "\n",
    "\n",
    "//数组去重\n",
    "function unique(arr: any[]): any[] {\n",
    "    return arr.filter((item, index) => arr.indexOf(item) === index);\n",
    "    //or\n",
    "    //return [...new Set(arr)];\n",
    "    //or\n",
    "    //return Array.from(new Set(arr));\n",
    "}\n",
    "\n",
    "\n",
    "//对象去重\n",
    "function uniqueObject(arr: any[], key: string): any[] {\n",
    "    const map = new Map();\n",
    "    return arr.filter(item => {\n",
    "        if (!map.has(item[key])) {\n",
    "            map.set(item[key], true);\n",
    "            return true;\n",
    "        }\n",
    "        return false;\n",
    "    });\n",
    "}"
   ]
  },
  {
   "cell_type": "markdown",
   "metadata": {},
   "source": []
  },
  {
   "cell_type": "markdown",
   "metadata": {},
   "source": []
  }
 ],
 "metadata": {
  "language_info": {
   "name": "python"
  }
 },
 "nbformat": 4,
 "nbformat_minor": 2
}
