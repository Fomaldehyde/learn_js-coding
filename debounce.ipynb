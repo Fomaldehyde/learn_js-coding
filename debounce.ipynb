{
 "cells": [
  {
   "cell_type": "code",
   "execution_count": null,
   "metadata": {},
   "outputs": [],
   "source": [
    "function debounce(fn, wait) {\n",
    "  let timeout;//定时器\n",
    "  return function (...args) {\n",
    "    if (timeout) {//如果定时器存在，清除定时器\n",
    "      clearTimeout(timeout);\n",
    "    }\n",
    "    timeout = setTimeout(() => fn.apply(this, args), wait);//重新设置定时器\n",
    "  };\n",
    "}"
   ]
  },
  {
   "cell_type": "markdown",
   "metadata": {},
   "source": [
    "节流有时间戳和定时器两种模式。\n",
    "- 定时器模式适合立即执行的场景，如用户点击，防止重复提交（首次立即执行） \n",
    "- 基于定时器的模式适合延迟执行，用timeout记录定时器状态，如果没有定时器就设定一个定时器，定时器到期以后执行函数再清空定时器。适用于窗口大小调整（只需要结束后执行）\n",
    "- 双模式都启动的场景适合滚动页面加载 滚动开始立即执行，实时反馈，滚动停止也要执行"
   ]
  },
  {
   "cell_type": "code",
   "execution_count": null,
   "metadata": {},
   "outputs": [],
   "source": [
    "function throttleWithTimer(fn, wait) {\n",
    "    let timeout; // 定时器\n",
    "    return function (...args) {\n",
    "        if (!timeout) { // 如果定时器不存在\n",
    "            timeout = setTimeout(() => {\n",
    "                timeout = null; // 清空定时器\n",
    "                fn.apply(this, args); // 执行函数\n",
    "            }, wait);\n",
    "        }\n",
    "    };\n",
    "}\n",
    "\n",
    "function throttleWithLeading(fn, wait) {\n",
    "    let lastTime = 0; // 上次执行函数的时间戳\n",
    "    return function (...args) {\n",
    "        const now = Date.now(); // 当前时间戳\n",
    "        if (now - lastTime >= wait) { // 如果距离上次执行的时间间隔大于等于设定的等待时间\n",
    "            lastTime = now; // 更新上次执行的时间戳\n",
    "            fn.apply(this, args); // 执行函数\n",
    "        } \n",
    "    };\n",
    "}\n",
    "\n",
    "\n",
    "\n",
    "function throttle(fn, wait = 100, { leading = true, trailing = true } = {}) {\n",
    "    let lastCall = 0; // 最后一次执行时间戳\n",
    "    let timer = null; // 定时器引用\n",
    "  \n",
    "    return function(...args) {\n",
    "      const context = this;\n",
    "      const now = Date.now();\n",
    "      const elapsed = now - lastCall;\n",
    "  \n",
    "      // 立即执行模式（leading）\n",
    "      if (leading && elapsed >= wait) {\n",
    "        fn.apply(context, args);\n",
    "        lastCall = now;\n",
    "        return;\n",
    "      }\n",
    "  \n",
    "      // 延迟执行模式（trailing）\n",
    "      if (trailing && !timer) {\n",
    "        timer = setTimeout(() => {\n",
    "          fn.apply(context, args);\n",
    "          lastCall = Date.now(); // 修正时间戳，避免累积误差\n",
    "          timer = null;\n",
    "        }, wait - elapsed);\n",
    "      }\n",
    "    };\n",
    "  }\n",
    "  "
   ]
  }
 ],
 "metadata": {
  "kernelspec": {
   "display_name": "Deno",
   "language": "typescript",
   "name": "deno"
  },
  "language_info": {
   "name": "typescript"
  }
 },
 "nbformat": 4,
 "nbformat_minor": 2
}
