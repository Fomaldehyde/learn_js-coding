{
 "cells": [
  {
   "cell_type": "markdown",
   "metadata": {},
   "source": [
    "### 深拷贝\n",
    "##### 回顾js的数据类型： \n",
    "1. 七种基本： symbol number boolean string BigInt null undefine\n",
    " 2. 引用类型Object \n",
    "        function Date Map Array Set等\n",
    "- 对于原始类型 ,可以直接返回。\n",
    "- 函数通常不需要深拷贝，此处保留引用\n",
    "- 对于object，递归地拷贝里面的元素，注意\n",
    "- 建议使用weakmap,键是弱引用，键所引用的对象被回收后会自动删除。 Map支持迭代，但强引用，可能导致内存泄漏\n",
    "- Reflect.ownKeys可以遍历对象的所有属性，包括不可枚举属性和symbol\n",
    "- Date/RegExp\t必须特殊处理内部属性（如时间戳）和原型方法无法通过通用逻辑复制\n",
    "- Map Set 是特殊的object, 也需要特殊处理\n",
    "\n",
    "##### 回顾Map和普通object区别\n",
    "- Map的Key可以是任意值，有序可迭代，没有默认原型； Object只能是字符串或者Symbol，不可迭代，有原型Object.prototype。"
   ]
  },
  {
   "cell_type": "code",
   "execution_count": null,
   "metadata": {},
   "outputs": [
    {
     "name": "stdout",
     "output_type": "stream",
     "text": [
      "Original Map: Map(2) { \"key1\" => { a: 1 }, \"key2\" => Set(3) { 1, 2, 3 } }\n",
      "Cloned Map: Map(2) { \"key1\" => { a: 1 }, \"key2\" => Set(3) { 1, 2, 3 } }\n",
      "Original Set: Set(2) { { b: 2 }, [ 4, 5, 6 ] }\n",
      "Cloned Set: Set(2) { { b: 2 }, [ 4, 5, 6 ] }\n"
     ]
    }
   ],
   "source": [
    "function deepClone(target:any, map = new WeakMap()) {\n",
    "  if (target === null || typeof target !== 'object' || \n",
    "    typeof target === 'bigint') return target;// null, undefined, number, string, boolean, symbol, bigint\n",
    "  if (target instanceof Date) return new Date(target);\n",
    "  if (target instanceof RegExp) return new RegExp(target);\n",
    "\n",
    "  if (target instanceof Set) {\n",
    "    const cloneSet = new Set();\n",
    "    target.forEach(value => {\n",
    "      cloneSet.add(deepClone(value, map)); // 深拷贝每个元素\n",
    "    });\n",
    "    return cloneSet;\n",
    "  }\n",
    "  \n",
    "  if (target instanceof Map) {\n",
    "    const cloneMap = new Map();\n",
    "    target.forEach((value, key) => {\n",
    "      cloneMap.set(deepClone(key, map), deepClone(value, map)); // 深拷贝键和值\n",
    "    });\n",
    "    return cloneMap;\n",
    "  }\n",
    "\n",
    "  if (map.has(target)) {\n",
    "    return map.get(target);\n",
    "  }\n",
    "\n",
    "  const cloneTarget = Array.isArray(target) ? [] : Object.create(Object.getPrototypeOf(target));\n",
    "  map.set(target, cloneTarget);\n",
    "\n",
    "  Reflect.ownKeys(target).forEach(key => {\n",
    "    if (typeof target[key] === 'function') {\n",
    "      cloneTarget[key] = target[key]; // 保留函数引用\n",
    "    } else {\n",
    "      cloneTarget[key] = deepClone(target[key], map);\n",
    "    }\n",
    "  });\n",
    "\n",
    "  return cloneTarget;\n",
    "}\n",
    "\n",
    "\n",
    "const originalMap = new Map();\n",
    "originalMap.set('key1', { a: 1 });\n",
    "originalMap.set('key2', new Set([1, 2, 3]));\n",
    "\n",
    "const clonedMap = deepClone(originalMap);\n",
    "console.log('Original Map:', originalMap);\n",
    "console.log('Cloned Map:', clonedMap);\n",
    "\n",
    "\n",
    "const originalSet = new Set();\n",
    "originalSet.add({ b: 2 });\n",
    "originalSet.add([4, 5, 6]);\n",
    "\n",
    "const clonedSet = deepClone(originalSet);\n",
    "console.log('Original Set:', originalSet);\n",
    "console.log('Cloned Set:', clonedSet);"
   ]
  }
 ],
 "metadata": {
  "kernelspec": {
   "display_name": "Deno",
   "language": "typescript",
   "name": "deno"
  },
  "language_info": {
   "codemirror_mode": "typescript",
   "file_extension": ".ts",
   "mimetype": "text/x.typescript",
   "name": "typescript",
   "nbconvert_exporter": "script",
   "pygments_lexer": "typescript",
   "version": "5.7.3"
  }
 },
 "nbformat": 4,
 "nbformat_minor": 2
}
