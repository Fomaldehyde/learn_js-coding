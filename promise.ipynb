{
 "cells": [
  {
   "cell_type": "markdown",
   "metadata": {},
   "source": [
    "### promise\n",
    "\n",
    "#### 三种状态\n",
    "\n",
    "- pending 初始状态\n",
    "- fulfilled 已兑现 操作完成\n",
    "- rejected 被拒绝\n",
    "\n",
    "\n",
    "#### 接收\n",
    "\n",
    "情况⼀：如果resolve传⼊⼀个普通的值或者对象，那么这个值会作为then回调的参数； \n",
    "情况⼆：如果resolve中传⼊的是另外⼀个Promise，那么这个新Promise会决定原Promise的状态：  \n",
    "情况三：如果resolve中传⼊的是⼀个对象，并且这个对象有实现then⽅法，那么会执⾏该then⽅法，并且根据then⽅法的结 果来决定Promise的状态"
   ]
  },
  {
   "cell_type": "code",
   "execution_count": null,
   "metadata": {},
   "outputs": [],
   "source": [
    "//promise输出题\n",
    "\n",
    "  \n",
    "  //翻译成promise\n",
    "    function async1() {\n",
    "        console.log(\"async1 start\");\n",
    "        return async2().then(() => {\n",
    "        console.log(\"async1 end\");\n",
    "        });\n",
    "    }\n",
    "\n",
    "    async function async1() {\n",
    "        console.log(\"async1 start\");\n",
    "        // 原来代码\n",
    "        // await async2();\n",
    "        // console.log(\"async1 end\");\n",
    "        \n",
    "        // 转换后代码\n",
    "        new Promise(resolve => {\n",
    "          console.log(\"async2\")\n",
    "          resolve()\n",
    "        }).then(res => console.log(\"async1 end\"))\n",
    "      }\n",
    "      async function async2() {\n",
    "        console.log(\"async2\");\n",
    "      }\n",
    "      async1();\n",
    "      console.log(\"start\")\n",
    "\n",
    "//输出结果：\n",
    "//'async start'\n",
    "// 'promise'\n",
    "// 'async1 end'\n",
    "// 'start'\n"
   ]
  },
  {
   "cell_type": "markdown",
   "metadata": {},
   "source": [
    "promise.all 接收多个promise,返回一个新的promise,如果所有都成功，返回一个包含所有结果的数组，如果有任何一个被拒绝，直接reject"
   ]
  },
  {
   "cell_type": "code",
   "execution_count": null,
   "metadata": {},
   "outputs": [],
   "source": [
    "//promise.all\n",
    "function promiseMyAll(promise: Promise<any>[]) {\n",
    "    return new Promise((resolve, reject) => { // 创建一个新的Promise对象\n",
    "      let result: any[] = [];\n",
    "      let count = 0;\n",
    "      for (let i = 0; i < promise.length; i++) {\n",
    "        promise[i].then((res) => {\n",
    "          result[i] = res;// 将结果存储在对应的索引位置\n",
    "          count++;\n",
    "          if (count === promise.length) {// 所有promise都完成\n",
    "            resolve(result);// 返回结果数组\n",
    "          }\n",
    "        }).catch((err) => {// 如果有一个promise失败\n",
    "          reject(err);// 直接reject\n",
    "        });\n",
    "      }\n",
    "    });\n",
    "  }\n"
   ]
  }
 ],
 "metadata": {
  "kernelspec": {
   "display_name": "Deno",
   "language": "typescript",
   "name": "deno"
  },
  "language_info": {
   "name": "typescript"
  }
 },
 "nbformat": 4,
 "nbformat_minor": 2
}
